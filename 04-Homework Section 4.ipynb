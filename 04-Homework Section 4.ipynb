{
 "cells": [
  {
   "cell_type": "code",
   "execution_count": null,
   "metadata": {},
   "outputs": [
    {
     "name": "stdout",
     "output_type": "stream",
     "text": [
      "Renting a car is very expensive\n"
     ]
    }
   ],
   "source": [
    "#1\n",
    "age = 20  # Replace with any value\n",
    "if age >= 25:\n",
    "    print(\"Renting a car is more affordable\")\n",
    "else:\n",
    "    print(\"Renting a car is very expensive\")\n"
   ]
  },
  {
   "cell_type": "code",
   "execution_count": null,
   "metadata": {},
   "outputs": [
    {
     "name": "stdout",
     "output_type": "stream",
     "text": [
      "Renting a car is very expensive\n"
     ]
    }
   ],
   "source": [
    "#2\n",
    "if age >= 25:\n",
    "    print(\"Renting a car is more affordable\")\n",
    "elif 18 <= age < 25:\n",
    "    print(\"Renting a car is very expensive\")\n",
    "else:\n",
    "    print(\"You cannot legally rent a car\")"
   ]
  },
  {
   "cell_type": "code",
   "execution_count": null,
   "metadata": {},
   "outputs": [
    {
     "name": "stdout",
     "output_type": "stream",
     "text": [
      "Total characters: 43\n",
      "Vowels: e u i o o u o e e a o\n"
     ]
    }
   ],
   "source": [
    "#3\n",
    "text = \"The quick brown fox jumps over the lazy dog\"\n",
    "char_count = len(text)\n",
    "vowels = [char for char in text if char.lower() in 'aeiou']\n",
    "print(f\"Total characters: {char_count}\")\n",
    "print(f\"Vowels: {' '.join(vowels)}\")"
   ]
  },
  {
   "cell_type": "code",
   "execution_count": 4,
   "metadata": {},
   "outputs": [
    {
     "name": "stdout",
     "output_type": "stream",
     "text": [
      "auburn trousers\n",
      "Dark Sapphire trousers\n",
      "burnt sienna trousers\n",
      "cerise trousers\n",
      "gunmetal blue trousers\n",
      "fuchsia trousers\n",
      "aqua trousers\n",
      "maple trousers\n",
      "auburn blouse\n",
      "Dark Sapphire blouse\n",
      "burnt sienna blouse\n",
      "cerise blouse\n",
      "gunmetal blue blouse\n",
      "fuchsia blouse\n",
      "aqua blouse\n",
      "maple blouse\n",
      "auburn bandana\n",
      "Dark Sapphire bandana\n",
      "burnt sienna bandana\n",
      "cerise bandana\n",
      "gunmetal blue bandana\n",
      "fuchsia bandana\n",
      "aqua bandana\n",
      "maple bandana\n",
      "auburn cumber band\n",
      "Dark Sapphire cumber band\n",
      "burnt sienna cumber band\n",
      "cerise cumber band\n",
      "gunmetal blue cumber band\n",
      "fuchsia cumber band\n",
      "aqua cumber band\n",
      "maple cumber band\n",
      "auburn blazer\n",
      "Dark Sapphire blazer\n",
      "burnt sienna blazer\n",
      "cerise blazer\n",
      "gunmetal blue blazer\n",
      "fuchsia blazer\n",
      "aqua blazer\n",
      "maple blazer\n",
      "auburn vest\n",
      "Dark Sapphire vest\n",
      "burnt sienna vest\n",
      "cerise vest\n",
      "gunmetal blue vest\n",
      "fuchsia vest\n",
      "aqua vest\n",
      "maple vest\n",
      "auburn french beret\n",
      "Dark Sapphire french beret\n",
      "burnt sienna french beret\n",
      "cerise french beret\n",
      "gunmetal blue french beret\n",
      "fuchsia french beret\n",
      "aqua french beret\n",
      "maple french beret\n",
      "auburn scarf\n",
      "Dark Sapphire scarf\n",
      "burnt sienna scarf\n",
      "cerise scarf\n",
      "gunmetal blue scarf\n",
      "fuchsia scarf\n",
      "aqua scarf\n",
      "maple scarf\n",
      "auburn stole\n",
      "Dark Sapphire stole\n",
      "burnt sienna stole\n",
      "cerise stole\n",
      "gunmetal blue stole\n",
      "fuchsia stole\n",
      "aqua stole\n",
      "maple stole\n"
     ]
    }
   ],
   "source": [
    "#4\n",
    "couture = [\"trousers\", \"blouse\", \"bandana\", \"cumber band\", \"blazer\", \"vest\", \"french beret\", \"scarf\", \"stole\"]\n",
    "panettone = {\"cerise\", \"fuchsia\", \"aqua\", \"maple\", \"auburn\", \"burnt sienna\", \"gunmetal blue\", \"Dark Sapphire\"}\n",
    "\n",
    "for clothing in couture:\n",
    "    for color in panettone:\n",
    "        print(f\"{color} {clothing}\")\n"
   ]
  },
  {
   "cell_type": "code",
   "execution_count": 5,
   "metadata": {},
   "outputs": [
    {
     "name": "stdout",
     "output_type": "stream",
     "text": [
      "5050\n"
     ]
    }
   ],
   "source": [
    "#5\n",
    "total = sum(range(1, 101))\n",
    "print(total)"
   ]
  },
  {
   "cell_type": "code",
   "execution_count": 6,
   "metadata": {},
   "outputs": [
    {
     "name": "stdout",
     "output_type": "stream",
     "text": [
      "['kiwi', 'banana', 'cherry']\n"
     ]
    }
   ],
   "source": [
    "#6\n",
    "fruits = [\"apple\", \"banana\", \"cherry\"]\n",
    "fruits[0] = \"kiwi\"\n",
    "print(fruits)"
   ]
  },
  {
   "cell_type": "code",
   "execution_count": 7,
   "metadata": {},
   "outputs": [
    {
     "name": "stdout",
     "output_type": "stream",
     "text": [
      "['kiwi', 'banana', 'cherry']\n"
     ]
    }
   ],
   "source": [
    "#7\n",
    "fruits = [\"apple\", \"banana\", \"cherry\"]\n",
    "fruits[0] = \"kiwi\"\n",
    "print(fruits)\n"
   ]
  },
  {
   "cell_type": "code",
   "execution_count": 8,
   "metadata": {},
   "outputs": [
    {
     "name": "stdout",
     "output_type": "stream",
     "text": [
      "['apple', 'banana', 'cherry', 'orange']\n"
     ]
    }
   ],
   "source": [
    "#8\n",
    "fruits = [\"apple\", \"banana\", \"cherry\"]\n",
    "fruits.append(\"orange\")\n",
    "print(fruits)"
   ]
  },
  {
   "cell_type": "code",
   "execution_count": 10,
   "metadata": {},
   "outputs": [
    {
     "name": "stdout",
     "output_type": "stream",
     "text": [
      "['apple', 'lemon', 'banana', 'cherry']\n"
     ]
    }
   ],
   "source": [
    "#9\n",
    "fruits = [\"apple\", \"banana\", \"cherry\"]\n",
    "fruits.insert(1, \"lemon\")\n",
    "print(fruits)\n"
   ]
  },
  {
   "cell_type": "code",
   "execution_count": 12,
   "metadata": {},
   "outputs": [
    {
     "name": "stdout",
     "output_type": "stream",
     "text": [
      "['apple', 'cherry']\n"
     ]
    }
   ],
   "source": [
    "#10\n",
    "fruits = [\"apple\", \"banana\", \"cherry\"]\n",
    "fruits.remove(\"banana\")\n",
    "print(fruits)\n"
   ]
  },
  {
   "cell_type": "code",
   "execution_count": 13,
   "metadata": {},
   "outputs": [
    {
     "name": "stdout",
     "output_type": "stream",
     "text": [
      "kiwi melon\n"
     ]
    }
   ],
   "source": [
    "#11\n",
    "fruits = [\"apple\", \"banana\", \"cherry\", \"orange\", \"kiwi\", \"melon\", \"mango\"]\n",
    "print(fruits[-3], fruits[-2])\n"
   ]
  },
  {
   "cell_type": "code",
   "execution_count": 14,
   "metadata": {},
   "outputs": [
    {
     "name": "stdout",
     "output_type": "stream",
     "text": [
      "['cherry', 'orange', 'kiwi']\n"
     ]
    }
   ],
   "source": [
    "#12\n",
    "fruits = [\"apple\", \"banana\", \"cherry\", \"orange\", \"kiwi\", \"melon\", \"mango\"]\n",
    "print(fruits[2:5])"
   ]
  },
  {
   "cell_type": "code",
   "execution_count": null,
   "metadata": {},
   "outputs": [
    {
     "name": "stdout",
     "output_type": "stream",
     "text": [
      "7\n"
     ]
    }
   ],
   "source": [
    "#13\n",
    "fruits = [\"apple\", \"banana\", \"cherry\", \"orange\", \"kiwi\", \"melon\", \"mango\"]\n",
    "print(len(fruits))\n"
   ]
  },
  {
   "cell_type": "code",
   "execution_count": 16,
   "metadata": {},
   "outputs": [
    {
     "name": "stdout",
     "output_type": "stream",
     "text": [
      "['orange', 'melon', 'mango', 'kiwi', 'cherry', 'banana', 'apple']\n"
     ]
    }
   ],
   "source": [
    "#14\n",
    "fruits = [\"apple\", \"banana\", \"cherry\", \"orange\", \"kiwi\", \"melon\", \"mango\"]\n",
    "fruits.sort(reverse=True)\n",
    "print(fruits) \n"
   ]
  },
  {
   "cell_type": "code",
   "execution_count": null,
   "metadata": {},
   "outputs": [],
   "source": [
    "#16\n",
    "def greet(first_name, day_name=\"Sunday\"):\n",
    "    print(f\"Hi {first_name}! Happy {day_name}!\")"
   ]
  },
  {
   "cell_type": "code",
   "execution_count": 19,
   "metadata": {},
   "outputs": [
    {
     "name": "stdout",
     "output_type": "stream",
     "text": [
      "Hi Alice! Happy Friday!\n"
     ]
    }
   ],
   "source": [
    "greet(\"Alice\", \"Friday\")"
   ]
  },
  {
   "cell_type": "code",
   "execution_count": 20,
   "metadata": {},
   "outputs": [
    {
     "name": "stdout",
     "output_type": "stream",
     "text": [
      "Hi Bob! Happy Sunday!\n"
     ]
    }
   ],
   "source": [
    "greet(\"Bob\")"
   ]
  },
  {
   "cell_type": "code",
   "execution_count": 37,
   "metadata": {},
   "outputs": [
    {
     "name": "stdout",
     "output_type": "stream",
     "text": [
      "The result is: 5.0\n",
      "Division attempt completed.\n",
      "Error: Cannot divide by zero.\n",
      "Division attempt completed.\n"
     ]
    }
   ],
   "source": [
    "#17\n",
    "def divide_numbers(a, b):\n",
    "    try:\n",
    "        result = a / b\n",
    "    except ZeroDivisionError:\n",
    "        \n",
    "        print(\"Error: Cannot divide by zero.\")\n",
    "    else:\n",
    "        \n",
    "        print(f\"The result is: {result}\")\n",
    "    finally:\n",
    "       \n",
    "        print(\"Division attempt completed.\")\n",
    "\n",
    "# Test cases\n",
    "divide_numbers(10, 2)  # Should execute without error\n",
    "divide_numbers(10, 0)  # Should handle the ZeroDivisionError\n"
   ]
  }
 ],
 "metadata": {
  "kernelspec": {
   "display_name": "Python 3",
   "language": "python",
   "name": "python3"
  },
  "language_info": {
   "codemirror_mode": {
    "name": "ipython",
    "version": 3
   },
   "file_extension": ".py",
   "mimetype": "text/x-python",
   "name": "python",
   "nbconvert_exporter": "python",
   "pygments_lexer": "ipython3",
   "version": "3.13.2"
  }
 },
 "nbformat": 4,
 "nbformat_minor": 2
}
