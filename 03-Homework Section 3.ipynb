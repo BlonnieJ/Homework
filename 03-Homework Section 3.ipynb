{
 "cells": [
  {
   "cell_type": "code",
   "execution_count": 15,
   "metadata": {},
   "outputs": [
    {
     "name": "stdout",
     "output_type": "stream",
     "text": [
      "multi-line stringBlonnie \n",
      "favorite food \n",
      "Jerk Chicken \n",
      "my dream job is to be a \n",
      "Data Analyst \n",
      "\n"
     ]
    }
   ],
   "source": [
    "#6\n",
    "name =(\"multi-line string\"\n",
    "         \"Blonnie \\n\"\n",
    "         \"favorite food \\n\"\n",
    "       \"Jerk Chicken \\n\"\n",
    "       \"my dream job is to be a \\n\"\n",
    "    \"Data Analyst \\n\")\n",
    "print(name)"
   ]
  },
  {
   "cell_type": "code",
   "execution_count": 9,
   "metadata": {},
   "outputs": [
    {
     "name": "stdout",
     "output_type": "stream",
     "text": [
      "Length of the string: 13\n"
     ]
    }
   ],
   "source": [
    "#7\n",
    "string = \"Hello, world!\"\n",
    "integer = 42\n",
    "float = 3.14\n",
    "boolean = True\n",
    "list = [1, 2, 3, 4, 5]\n",
    "print(\"Length of the string:\", len(string))"
   ]
  },
  {
   "cell_type": "code",
   "execution_count": 10,
   "metadata": {},
   "outputs": [
    {
     "name": "stdout",
     "output_type": "stream",
     "text": [
      "Hello World\n",
      "The 4th character in the string: l\n"
     ]
    }
   ],
   "source": [
    "#Print the length of your string\n",
    "#Print the index value of the 4th character in your string\n",
    "s = \"Hello World\" \n",
    "print(s)\n",
    "print(\"The 4th character in the string:\", s[3])"
   ]
  },
  {
   "cell_type": "code",
   "execution_count": 15,
   "metadata": {},
   "outputs": [
    {
     "name": "stdout",
     "output_type": "stream",
     "text": [
      "Learning Data Analytics and Python is Awesome!\n",
      "Sliced range: ing Data Analytics \n",
      "Learning Data Analytics and Python is great!\n",
      "Does savvy contain 'Python'?  True\n"
     ]
    }
   ],
   "source": [
    "#8\n",
    "# Create a new variable and assign the string\n",
    "savvy = \"Learning Data Analytics and Python is Awesome!\"\n",
    "\n",
    "# Print the variable\n",
    "print(savvy)\n",
    "sliced_range = savvy[savvy.index(\"ing\"):savvy.index(\"and\")]\n",
    "\n",
    "# Print the sliced portion\n",
    "print(\"Sliced range:\", sliced_range)\n",
    "\n",
    "# Replace \"Awesome\" with \"great\"\n",
    "updated_savvy = savvy.replace(\"Awesome\", \"great\")\n",
    "\n",
    "# Print the updated string\n",
    "print(updated_savvy)\n",
    "\n",
    "# Test if \"Python\" is in the string\n",
    "contains_python = \"Python\" in savvy\n",
    "\n",
    "# Print the result\n",
    "print(\"Does savvy contain 'Python'? \", contains_python)"
   ]
  },
  {
   "cell_type": "code",
   "execution_count": 20,
   "metadata": {},
   "outputs": [
    {
     "name": "stdout",
     "output_type": "stream",
     "text": [
      "Name: Blonnie\n",
      "Age: 30\n",
      "Length: 5.5\n",
      "Hi my name is Blonnie, I am 5.5 and 30 old today.\n",
      "Age as a float: 30.0\n"
     ]
    }
   ],
   "source": [
    "#9 Create and assign 3 more variables called name, age and length using the multi-variable  naming method\n",
    "\n",
    "name = \"Blonnie\"\n",
    "age = \"30\"\n",
    "length = \"5.5\"\n",
    "\n",
    "# Print the variables\n",
    "print(\"Name:\", name)\n",
    "print(\"Age:\", age)\n",
    "print(\"Length:\", length)\n",
    "\n",
    "miniBio = f\"Hi my name is {name}, I am {length} and {age} old today.\"\n",
    "print(miniBio)\n",
    "\n",
    "age_float = float(age)\n",
    "print(\"Age as a float:\", age_float)"
   ]
  },
  {
   "cell_type": "code",
   "execution_count": 10,
   "metadata": {},
   "outputs": [
    {
     "name": "stdout",
     "output_type": "stream",
     "text": [
      "Mixed list: ['Blandie', 25, 5.9, True, ['Data Analyst', 'Python']]\n",
      "Updated list: ['Blandie', 'Learning', 5.9, True, ['Data Analyst', 'Python']]\n",
      "Updated list: ['Blandie', 'Kansas City', 'Learning', 5.9, False, True, ['Data Analyst', 'Python'], 'Jerk Chicken Wings', 2025]\n",
      "Length of the list: 9\n"
     ]
    }
   ],
   "source": [
    "#10 Create a list of at least 5 elements of mixed data types\n",
    "\n",
    "mixed_list = [\"Blandie\", 25, 5.9, True, [\"Data Analyst\", \"Python\"]]\n",
    "# Print the list\n",
    "print(\"Mixed list:\", mixed_list)\n",
    "\n",
    "# Replace the second element (25) with \"Learning\"\n",
    "mixed_list[1] = \"Learning\"\n",
    "# Print the updated list\n",
    "print(\"Updated list:\", mixed_list)\n",
    "\n",
    "# Append items to the end of the list\n",
    "mixed_list.append(\"Jerk Chicken Wings\")\n",
    "mixed_list.append(2025)\n",
    "\n",
    "# Insert items at specific positions\n",
    "mixed_list.insert(1, \"Kansas City\")\n",
    "mixed_list.insert(4, False)\n",
    "\n",
    "# Print the updated list\n",
    "print(\"Updated list:\", mixed_list)\n",
    "\n",
    "print(\"Length of the list:\", len(mixed_list))"
   ]
  },
  {
   "cell_type": "code",
   "execution_count": 26,
   "metadata": {},
   "outputs": [
    {
     "name": "stdout",
     "output_type": "stream",
     "text": [
      "Second list: ['Kansas City', 'Learning', 5.9, False]\n"
     ]
    }
   ],
   "source": [
    "# Slice a sub-section (e.g., from index 1 to 4)\n",
    "sub_section = mixed_list[1:5]\n",
    "\n",
    "# Save it to a second list\n",
    "second_list = sub_section\n",
    "\n",
    "# Print the second list\n",
    "print(\"Second list:\", second_list)"
   ]
  },
  {
   "cell_type": "code",
   "execution_count": 27,
   "metadata": {},
   "outputs": [
    {
     "name": "stdout",
     "output_type": "stream",
     "text": [
      "Extended list: ['Blonnie', 'Kansas City', 'Learning', 5.9, False, True, ['Data Analyst', 'Python'], 'Jerk Chicken Wings', 2025, 'Kansas City', 'Learning', 5.9, False]\n"
     ]
    }
   ],
   "source": [
    "#Extend your original list with the 2nd list sliced above\n",
    "# Extend the original list with the second list\n",
    "mixed_list.extend(second_list)\n",
    "\n",
    "# Print the extended list\n",
    "print(\"Extended list:\", mixed_list)"
   ]
  },
  {
   "cell_type": "code",
   "execution_count": 11,
   "metadata": {},
   "outputs": [
    {
     "name": "stdout",
     "output_type": "stream",
     "text": [
      "simList: ['Data', 'Analytics', 'Python', 'Learning', 'Fun']\n"
     ]
    }
   ],
   "source": [
    "#Create a new list called \"simList\" containing at least 5 elements of the same data type, either string, integer, float, or Boolean\n",
    "simList = [\"Data\", \"Analytics\", \"Python\", \"Learning\", \"Fun\"]\n",
    "\n",
    "# Print the list\n",
    "print(\"simList:\", simList)"
   ]
  },
  {
   "cell_type": "code",
   "execution_count": 12,
   "metadata": {},
   "outputs": [
    {
     "name": "stdout",
     "output_type": "stream",
     "text": [
      "Sorted simList: ['Analytics', 'Data', 'Fun', 'Learning', 'Python']\n"
     ]
    }
   ],
   "source": [
    "#Sort \"simList\", and print the list\n",
    "simList = [\"Data\", \"Analytics\", \"Python\", \"Learning\", \"Fun\"]\n",
    "\n",
    "# Sort the list\n",
    "simList.sort()\n",
    "\n",
    "# Print the sorted list\n",
    "print(\"Sorted simList:\", simList)"
   ]
  },
  {
   "cell_type": "code",
   "execution_count": 13,
   "metadata": {},
   "outputs": [
    {
     "name": "stdout",
     "output_type": "stream",
     "text": [
      "Third list: ['Analytics', 'Data', 'Fun', 'Learning', 'Python']\n"
     ]
    }
   ],
   "source": [
    "#Copy the \"simList\" list to another 3rd list\n",
    "third_list = simList.copy()\n",
    "\n",
    "# Print the copied list\n",
    "print(\"Third list:\", third_list)"
   ]
  },
  {
   "cell_type": "code",
   "execution_count": 14,
   "metadata": {},
   "outputs": [
    {
     "name": "stdout",
     "output_type": "stream",
     "text": [
      "Fourth list: ['Kansas City', 'Learning', 5.9, False, 'Data', 'Analytics', 'Python', 'Learning', 'Fun']\n"
     ]
    }
   ],
   "source": [
    "#Add the 2nd and 3rd lists together into a 4th list\n",
    "# Define the 2nd and 3rd lists\n",
    "second_list = ['Kansas City', 'Learning', 5.9, False]\n",
    "third_list = ['Data', 'Analytics', 'Python', 'Learning', 'Fun']\n",
    "\n",
    "# Add the 2nd and 3rd lists together into a 4th list\n",
    "fourth_list = second_list + third_list\n",
    "\n",
    "# Print the new 4th list\n",
    "print(\"Fourth list:\", fourth_list)\n",
    "\n"
   ]
  },
  {
   "cell_type": "code",
   "execution_count": 30,
   "metadata": {},
   "outputs": [
    {
     "name": "stdout",
     "output_type": "stream",
     "text": [
      "The 12th element: 2025\n"
     ]
    }
   ],
   "source": [
    "#11 Create a tuple of about 5 elements\n",
    "\n",
    "tup1 = ('Cyber Security', 'Information Technology', 2022, 2025)\n",
    "\n",
    "tup2 = ('Cyber Security', 'Information Technology', 2022, 2025) * 3\n",
    "twelfth_element = tup2[11]\n",
    "print(\"The 12th element:\", twelfth_element)"
   ]
  },
  {
   "cell_type": "code",
   "execution_count": 31,
   "metadata": {},
   "outputs": [
    {
     "name": "stdout",
     "output_type": "stream",
     "text": [
      "Sorted tuple: (1, 2, 3, 4, 5)\n"
     ]
    }
   ],
   "source": [
    "#Sort the 2nd tuple and print it\n",
    "tup2 = (1, 2, 3, 4, 5)\n",
    "sorted_tup2 = tuple(sorted(tup2))\n",
    "print(\"Sorted tuple:\", sorted_tup2)"
   ]
  },
  {
   "cell_type": "code",
   "execution_count": 32,
   "metadata": {},
   "outputs": [
    {
     "name": "stdout",
     "output_type": "stream",
     "text": [
      "3rd tuple: (1, 2, 3, 5)\n"
     ]
    }
   ],
   "source": [
    "#Copy 4 specific elements from your 2nd tuple to a new 3nd tuple\n",
    "tup3 = (tup2[0], tup2[1], tup2[2], tup2[4])\n",
    "print(\"3rd tuple:\", tup3)"
   ]
  },
  {
   "cell_type": "code",
   "execution_count": 33,
   "metadata": {},
   "outputs": [
    {
     "name": "stdout",
     "output_type": "stream",
     "text": [
      "Variable 1: 1\n",
      "Variable 2: 2\n",
      "Variable 3: 3\n",
      "Variable 4: 5\n"
     ]
    }
   ],
   "source": [
    "#Unpack the 3rd tuple into 4 variables and print these variables\n",
    "tup3 = (1, 2, 3, 5)\n",
    "var1, var2, var3, var4 = tup3\n",
    "print(\"Variable 1:\", var1)\n",
    "print(\"Variable 2:\", var2)\n",
    "print(\"Variable 3:\", var3)\n",
    "print(\"Variable 4:\", var4)"
   ]
  },
  {
   "cell_type": "code",
   "execution_count": 34,
   "metadata": {},
   "outputs": [
    {
     "name": "stdout",
     "output_type": "stream",
     "text": [
      "4th tuple: (50,)\n"
     ]
    }
   ],
   "source": [
    "tup4 = (50,)\n",
    "print(\"4th tuple:\", tup4)"
   ]
  },
  {
   "cell_type": "code",
   "execution_count": 35,
   "metadata": {},
   "outputs": [
    {
     "name": "stdout",
     "output_type": "stream",
     "text": [
      "5th tuple: (1, 2, 3, 4, 5, 1, 2, 3, 5)\n"
     ]
    }
   ],
   "source": [
    "#Add the 2nd and 3rd tuple together into a 5th tuple and print the tuple\n",
    "tup2 = (1, 2, 3, 4, 5)\n",
    "tup3 = (1, 2, 3, 5)\n",
    "tup5 = tup2 + tup3\n",
    "print(\"5th tuple:\", tup5)"
   ]
  },
  {
   "cell_type": "code",
   "execution_count": 44,
   "metadata": {},
   "outputs": [
    {
     "name": "stdout",
     "output_type": "stream",
     "text": [
      "Updated set: {'car', 10, 20, 30}\n",
      "Union of myset and myset2 (myset3): {9, 10, 11, 13, 15, 'car', 17, 20, 30}\n"
     ]
    }
   ],
   "source": [
    "#Create a set of about 3 elements\n",
    "myset = {10,20,30}\n",
    "\n",
    "#Add a car element to your set\n",
    "myset.add(\"car\")\n",
    "print(\"Updated set:\", myset)\n",
    "\n",
    "myset2 = (9,11,13,15,17)\n",
    "\n",
    "myset3 = myset.union(myset2)\n",
    "print(\"Union of myset and myset2 (myset3):\", myset3)\n",
    "\n"
   ]
  },
  {
   "cell_type": "code",
   "execution_count": 49,
   "metadata": {},
   "outputs": [
    {
     "name": "stdout",
     "output_type": "stream",
     "text": [
      "Removed element: 17\n",
      "Remainder of the set: {9, 11, 13, 15}\n"
     ]
    }
   ],
   "source": [
    "#Pop an element from the 2nd set, and print the remainder of the set\n",
    "\n",
    "myset2 = {9, 11, 13, 15, 17}\n",
    "\n",
    "removed_element = myset2.pop()\n",
    "\n",
    "# Print the removed element\n",
    "print(\"Removed element:\", removed_element)\n",
    "\n",
    "# Print the remainder of the set\n",
    "print(\"Remainder of the set:\", myset2)"
   ]
  },
  {
   "cell_type": "code",
   "execution_count": 51,
   "metadata": {},
   "outputs": [
    {
     "name": "stdout",
     "output_type": "stream",
     "text": [
      "Cleared set: set()\n"
     ]
    }
   ],
   "source": [
    "\n",
    "myset = {10, 20, 30, }\n",
    "\n",
    "# Clear the set\n",
    "myset.clear()\n",
    "print(\"Cleared set:\", myset)"
   ]
  },
  {
   "cell_type": "code",
   "execution_count": 54,
   "metadata": {},
   "outputs": [
    {
     "name": "stdout",
     "output_type": "stream",
     "text": [
      "Updated set: {9, 10, 13, 17, 20, 30}\n"
     ]
    }
   ],
   "source": [
    "#Discard an element, and remove another element from the 3rd set\n",
    "myset3 = {9, 10, 11, 13, 15,  17, 20, 30}\n",
    "myset3.discard(11)\n",
    "myset3.remove(15)\n",
    "print(\"Updated set:\", myset3)"
   ]
  },
  {
   "cell_type": "code",
   "execution_count": 60,
   "metadata": {},
   "outputs": [
    {
     "name": "stdout",
     "output_type": "stream",
     "text": [
      "One value: 63\n"
     ]
    }
   ],
   "source": [
    "\n",
    "aDict = {\n",
    "    \"name\": \"Jamaica\",          \n",
    "    \"age\": 63,                \n",
    "    \"IT student\": True,       \n",
    "    \"grades\": [88, 92, 95],   \n",
    "    \"details\": {\"major\": \"CS\", \"year\": 2025}  \n",
    "}\n",
    "\n",
    "print(\"One value:\", aDict[\"age\"])"
   ]
  },
  {
   "cell_type": "code",
   "execution_count": 63,
   "metadata": {},
   "outputs": [
    {
     "name": "stdout",
     "output_type": "stream",
     "text": [
      "Updated dictionary: {'name': 'BJohnston', 'age': 63, 'IT student': True, 'grades': [88, 92, 95], 'details': {'major': 'CS', 'year': 2025}}\n"
     ]
    }
   ],
   "source": [
    "\n",
    "aDict[\"name\"] = \"BJohnston\"\n",
    "print(\"Updated dictionary:\", aDict)"
   ]
  },
  {
   "cell_type": "code",
   "execution_count": null,
   "metadata": {},
   "outputs": [
    {
     "name": "stdout",
     "output_type": "stream",
     "text": [
      "Updated dictionary: {'name': 'BJohnston', 'age': 63, 'IT student': True, 'grades': [88, 92, 95], 'details': {'major': 'CS', 'year': 2025}, 'favoritecolor': 'Lavender', 'hobbies': ['reading', 'coding', 'traveling']}\n",
      "Dictionary keys: ['name', 'age', 'IT student', 'grades', 'details', 'favoritecolor', 'hobbies']\n",
      "Dictionary values: ['BJohnston', 63, True, [88, 92, 95], {'major': 'CS', 'year': 2025}, 'Lavender', ['reading', 'coding', 'traveling']]\n"
     ]
    }
   ],
   "source": [
    "#Add your favorite color to the dictionary\n",
    "aDict[\"favoritecolor\"] = \"Lavender\"\n",
    "aDict[\"hobbies\"] = [\"reading\", \"coding\", \"traveling\"]\n",
    "print(\"Updated dictionary:\", aDict)\n",
    "print(\"Dictionary keys:\", list(aDict.keys()))\n",
    "print(\"Dictionary values:\", list(aDict.values()))\n"
   ]
  },
  {
   "cell_type": "code",
   "execution_count": 68,
   "metadata": {},
   "outputs": [
    {
     "name": "stdout",
     "output_type": "stream",
     "text": [
      "2nd dictionary: {'name': 'BJohnston', 'age': 63, 'IT student': True, 'grades': [88, 92, 95], 'details': {'major': 'CS', 'year': 2025}, 'favoritecolor': 'Lavender', 'hobbies': ['reading', 'coding', 'traveling']}\n"
     ]
    }
   ],
   "source": [
    "# Copy the 1st dictionary into a 2nd dictionary\n",
    "aDict2 = aDict.copy()\n",
    "print(\"2nd dictionary:\", aDict2)"
   ]
  },
  {
   "cell_type": "code",
   "execution_count": 95,
   "metadata": {},
   "outputs": [
    {
     "name": "stdout",
     "output_type": "stream",
     "text": [
      "2nd dictionary: {'name': 'BJohnston', 'age': 63, 'IT student': True, 'grades': [88, 92, 95], 'details': {'major': 'CS', 'year': 2025}, 'favoritecolor': 'Lavender', 'hobbies': ['reading', 'coding', 'traveling']}\n",
      "Popped item: 63\n",
      "Updated dictionary: {'name': 'BJohnston', 'IT student': True, 'grades': [88, 92, 95], 'details': {'major': 'CS', 'year': 2025}, 'favoritecolor': 'Lavender', 'hobbies': ['reading', 'coding', 'traveling']}\n"
     ]
    }
   ],
   "source": [
    "# Copy the 1st dictionary into a 2nd dictionary\n",
    "aDict2 = aDict.copy()\n",
    "print(\"2nd dictionary:\", aDict2)\n",
    "\n",
    "popped_item = aDict2.pop(\"age\")\n",
    "print(\"Popped item:\", popped_item)\n",
    "print(\"Updated dictionary:\", aDict2)"
   ]
  },
  {
   "cell_type": "code",
   "execution_count": 96,
   "metadata": {},
   "outputs": [
    {
     "name": "stdout",
     "output_type": "stream",
     "text": [
      "Cleared dictionary: {}\n"
     ]
    }
   ],
   "source": [
    "#Remove all the elements from the 2nd dictionary and print the result\n",
    "aDict2.clear()\n",
    "print(\"Cleared dictionary:\", aDict2)"
   ]
  }
 ],
 "metadata": {
  "kernelspec": {
   "display_name": "Python 3",
   "language": "python",
   "name": "python3"
  },
  "language_info": {
   "codemirror_mode": {
    "name": "ipython",
    "version": 3
   },
   "file_extension": ".py",
   "mimetype": "text/x-python",
   "name": "python",
   "nbconvert_exporter": "python",
   "pygments_lexer": "ipython3",
   "version": "3.13.2"
  }
 },
 "nbformat": 4,
 "nbformat_minor": 2
}
