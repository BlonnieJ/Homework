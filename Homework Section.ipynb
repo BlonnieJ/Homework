{
 "cells": [
  {
   "cell_type": "code",
   "execution_count": 1,
   "metadata": {},
   "outputs": [],
   "source": [
    "myvariable = 'Hello World'"
   ]
  },
  {
   "cell_type": "code",
   "execution_count": 2,
   "metadata": {},
   "outputs": [],
   "source": [
    "myvariable = 'Hello World' \n",
    "myvariable = 12"
   ]
  },
  {
   "cell_type": "code",
   "execution_count": 3,
   "metadata": {},
   "outputs": [
    {
     "name": "stdout",
     "output_type": "stream",
     "text": [
      "12\n"
     ]
    }
   ],
   "source": [
    "print(myvariable)"
   ]
  },
  {
   "cell_type": "code",
   "execution_count": 4,
   "metadata": {},
   "outputs": [
    {
     "name": "stdout",
     "output_type": "stream",
     "text": [
      "1\n",
      "2\n",
      "3\n"
     ]
    }
   ],
   "source": [
    "first ,second,third =1,2,3\n",
    "print(first)\n",
    "print(second)\n",
    "print(third)"
   ]
  },
  {
   "cell_type": "code",
   "execution_count": 7,
   "metadata": {},
   "outputs": [
    {
     "name": "stdout",
     "output_type": "stream",
     "text": [
      "I LoveSavvycoders\n"
     ]
    }
   ],
   "source": [
    "one = \"I Love\"\n",
    "two = \"Savvycoders\"\n",
    "three = one + two\n",
    "print(three)"
   ]
  },
  {
   "cell_type": "code",
   "execution_count": 10,
   "metadata": {},
   "outputs": [
    {
     "data": {
      "text/plain": [
       "'World'"
      ]
     },
     "execution_count": 10,
     "metadata": {},
     "output_type": "execute_result"
    }
   ],
   "source": [
    "multi= '''Hello'''\n",
    "\"\"\"World\"\"\""
   ]
  },
  {
   "cell_type": "code",
   "execution_count": 11,
   "metadata": {},
   "outputs": [],
   "source": [
    "x = (\"aple\",\"cherry\", \"banana\")"
   ]
  },
  {
   "cell_type": "code",
   "execution_count": 13,
   "metadata": {},
   "outputs": [
    {
     "name": "stdout",
     "output_type": "stream",
     "text": [
      "Element 1=  l\n",
      "Element 1=  e\n",
      "Element 1=   \n"
     ]
    }
   ],
   "source": [
    "L = \"lemonade shake\"\n",
    "#print(\"Element 1 = e\" )\n",
    "#print(\"Element 2 = m\" )\n",
    "#print(\"Element -6 = space\" )\n",
    "\n",
    "print(\"Element 1= \", L[0])\n",
    "print(\"Element 1= \", L[1])\n",
    "print(\"Element 1= \", L[-6])"
   ]
  },
  {
   "cell_type": "code",
   "execution_count": 16,
   "metadata": {},
   "outputs": [
    {
     "name": "stdout",
     "output_type": "stream",
     "text": [
      "lemon\n",
      "ade\n",
      "ake\n",
      "lmnd hk\n"
     ]
    }
   ],
   "source": [
    "L = \"lemonade shake\" \n",
    "\n",
    "#lemon\n",
    "#ade\n",
    "#ake\n",
    "#lmd hk\n",
    "print(L[0:5])\n",
    "print(L[5:8])\n",
    "print(L[-3:])\n",
    "print(L[::2])"
   ]
  },
  {
   "cell_type": "code",
   "execution_count": 24,
   "metadata": {},
   "outputs": [],
   "source": [
    "# Try it out!\n",
    "# Check if the string \"code\" is in the following variable:\n",
    "sc = \"Savvycoders\""
   ]
  },
  {
   "cell_type": "code",
   "execution_count": 25,
   "metadata": {},
   "outputs": [
    {
     "name": "stdout",
     "output_type": "stream",
     "text": [
      "Jello World!\n",
      "Hello World!\n",
      "Hello Fellow!\n"
     ]
    }
   ],
   "source": [
    "# Temporarily changing text in a string\n",
    "c = \"Hello World!\"\n",
    "print(c.replace(\"H\", \"J\"))\n",
    "\n",
    "d = c.replace(\"World\", \"Fellow\")\n",
    "print(c)\n",
    "print(d)\n",
    "\n",
    "\n"
   ]
  },
  {
   "cell_type": "code",
   "execution_count": null,
   "metadata": {},
   "outputs": [
    {
     "name": "stdout",
     "output_type": "stream",
     "text": [
      "Javvy Coders\n",
      "Savvy Moders\n",
      "Molly Coders\n"
     ]
    }
   ],
   "source": [
    "# Try it out!\n",
    "# 1. Swap out the first letter of both words, without modifying the variable. Print.\n",
    "# 2. Swap out either of the words with your own word, without modifying the variable. Print.\n",
    "# 3. Print the original variable.\n",
    "sc = \"Savvy Coders\"\n",
    "print(sc.replace(\"S\",\"J\"))\n",
    "print(sc.replace(\"C\",\"M\"))\n",
    "\n",
    "print(sc.replace(\"Savvy\",\"Molly\"))\n"
   ]
  },
  {
   "cell_type": "code",
   "execution_count": 31,
   "metadata": {},
   "outputs": [
    {
     "name": "stdout",
     "output_type": "stream",
     "text": [
      "My name is Blonnie ,I am 51 years old .\n"
     ]
    }
   ],
   "source": [
    "name = \"Blonnie\"\n",
    "age = \"51\"\n",
    "text = \"My name is \"+ name + \" ,I am \" + age + \" years old .\"\n",
    "print(text)"
   ]
  },
  {
   "cell_type": "code",
   "execution_count": 35,
   "metadata": {},
   "outputs": [
    {
     "name": "stdout",
     "output_type": "stream",
     "text": [
      "I want 3 oranges 1.25 for 5.25 dollars.\n"
     ]
    }
   ],
   "source": [
    "quantity = 3\n",
    "oranges = 1.25\n",
    "price = 5.25\n",
    "myOrder = \"I want {} oranges {} for {} dollars.\"\n",
    "print(myOrder.format(quantity, oranges, price))\n"
   ]
  },
  {
   "cell_type": "code",
   "execution_count": 81,
   "metadata": {},
   "outputs": [
    {
     "name": "stdout",
     "output_type": "stream",
     "text": [
      "Hello. Blonnie,You are 35 years old.\n"
     ]
    }
   ],
   "source": [
    "# f strings\n",
    "\n",
    "me = \"Blonnie\"\n",
    "age = 35\n",
    "print(f\"Hello. {name},You are {age} years old.\")\n"
   ]
  },
  {
   "cell_type": "code",
   "execution_count": 41,
   "metadata": {},
   "outputs": [
    {
     "name": "stdout",
     "output_type": "stream",
     "text": [
      "Hi Eric. You are a comedian. You were in Monty Python.\n"
     ]
    }
   ],
   "source": [
    "# Multiline f-Strings -- You can have multiline strings:\n",
    "name = \"Eric\"\n",
    "profession = \"comedian\"\n",
    "affiliation = \"Monty Python\"\n",
    "\n",
    "message = (\n",
    "    f\"Hi {name}. \"\n",
    "    f\"You are a {profession}. \"\n",
    "    f\"You were in {affiliation}.\"\n",
    ")\n",
    "print(message)"
   ]
  },
  {
   "cell_type": "code",
   "execution_count": 84,
   "metadata": {},
   "outputs": [
    {
     "name": "stdout",
     "output_type": "stream",
     "text": [
      "My name is Barbara, and today's Tueday, March 18 2025.\n"
     ]
    }
   ],
   "source": [
    "# Try it out!\n",
    "# Using the f-string technique, re-write the following string as a formatted string:\n",
    "# where \"python\" is replaced with your name,\n",
    "# \"Friday\" is replaced with today's day of the week,\n",
    "# \"June\" is replaced with the current month,\n",
    "# \"13\" is replaced with the current day,\n",
    "# and \"2025\" is replaced with current year.\n",
    "# HINT: create variables for all of the above\n",
    "sc = \"My name is python, and today is Friday, June 13 2025.\"\n",
    "sc = \"My name is Barbara, and today is Tuesday, March 18 2025 \"\n",
    "name =\"Barbara\"\n",
    "day = \"Tueday\"\n",
    "month = \"March\"\n",
    "date = \"18\"\n",
    "year = \"2025\"\n",
    "print(f\"My name is {name}, and today's {day}, {month} {date} {year}.\")"
   ]
  },
  {
   "cell_type": "code",
   "execution_count": null,
   "metadata": {},
   "outputs": [
    {
     "name": "stdout",
     "output_type": "stream",
     "text": [
      "False\n"
     ]
    }
   ],
   "source": [
    "#bollen\n",
    "P = False\n",
    "Q = True\n",
    "print(bool((P and (not Q)) or (P and Q)))"
   ]
  },
  {
   "cell_type": "code",
   "execution_count": 57,
   "metadata": {},
   "outputs": [
    {
     "name": "stdout",
     "output_type": "stream",
     "text": [
      "a is truthy\n",
      "c is truthy\n",
      "d is truthy\n"
     ]
    }
   ],
   "source": [
    "# testing truthyness / falsyness\n",
    "a = \"a\"\n",
    "b = 0\n",
    "c = \"sea\"\n",
    "d = \"0\"\n",
    "if \"a\":\n",
    "    print(\"a is truthy\")\n",
    "if b:\n",
    "    print(\"b is truthy\")\n",
    "if c:\n",
    "    print(\"c is truthy\")\n",
    "if d:\n",
    "    print(\"d is truthy\")\n"
   ]
  },
  {
   "cell_type": "code",
   "execution_count": null,
   "metadata": {},
   "outputs": [
    {
     "name": "stdout",
     "output_type": "stream",
     "text": [
      "\n",
      "favorite_fruit ... ['apple ', 'banana', 'cherry', 'jackfruit', 'nesberry', 'tamarind', 'juneplum', 'stinking toe', 'mango']\n"
     ]
    }
   ],
   "source": [
    "favorite_fruit = [\"apple \", \"banana\", \"cherry\" ,\"jackfruit\", \"nesberry\", \"tamarind\" , \"juneplum\" , \"stinking toe\", \"mango\"]\n",
    "print(\"\\nfavorite_fruit ...\", favorite_fruit)# List Example 2\n",
    "\n"
   ]
  },
  {
   "cell_type": "code",
   "execution_count": 67,
   "metadata": {},
   "outputs": [
    {
     "name": "stdout",
     "output_type": "stream",
     "text": [
      "Element at index 3: 8\n",
      "The second to the last element of the input list: 16\n",
      "fifth element of the input list: 16\n"
     ]
    }
   ],
   "source": [
    "inputList = [1, 2, 4, 8, 16, 32]\n",
    "# Try it out!\n",
    "# Building off the previous exercise, access the list element at index 3 using positive indexing, and the 2nd-to-last element using negative indexing. Print the values.\n",
    "\n",
    "inputList = [1, 2, 4, 8, 16, 32]\n",
    "print(\"Element at index 3:\", inputList[3])\n",
    "print(\"The second to the last element of the input list:\", inputList[-2])\n",
    "print(\"fifth element of the input list:\", inputList[4])"
   ]
  },
  {
   "cell_type": "code",
   "execution_count": 88,
   "metadata": {},
   "outputs": [
    {
     "name": "stdout",
     "output_type": "stream",
     "text": [
      "\n",
      "favorite_fruit ... ['apple ', 'banana', 'cherry', 'jackfruit', 'nesberry', 'tamarind', 'juneplum', 'stinking toe', 'mango']\n",
      "the first fruit on favorite_fruitlist f\n"
     ]
    }
   ],
   "source": [
    "favorite_fruit = [\"apple \", \"banana\", \"cherry\" ,\"jackfruit\", \"nesberry\", \"tamarind\" , \"juneplum\" , \"stinking toe\", \"mango\"]\n",
    "print(\"\\nfavorite_fruit ...\", favorite_fruit)# List Example 2\n",
    "\n",
    "favorite_fruit[0] =  \"stinking toe\",\n",
    "\n",
    "print(\"the first fruit on favorite_fruitlist\", \"favorite_fruitlist \"[0] )"
   ]
  },
  {
   "cell_type": "code",
   "execution_count": 71,
   "metadata": {},
   "outputs": [
    {
     "name": "stdout",
     "output_type": "stream",
     "text": [
      "fruitList length =  3\n",
      "\n",
      "Second fruit ...  banana\n",
      "2nd fruit replaced ...  ['apple', 'grapefruit', 'cherry']\n"
     ]
    }
   ],
   "source": [
    "# Remember fruitList? What is the length?\n",
    "fruitList = [\"apple\", \"banana\", \"cherry\"]\n",
    "print(\"fruitList length = \", len(fruitList))\n",
    "\n",
    "# find the 2nd element of the fruitList\n",
    "print(\"\\nSecond fruit ... \", fruitList[1])\n",
    "\n",
    "# replace the 2nd element in the list\n",
    "fruitList[1] = \"grapefruit\"\n",
    "print(\"2nd fruit replaced ... \", fruitList)"
   ]
  },
  {
   "cell_type": "code",
   "execution_count": 72,
   "metadata": {},
   "outputs": [
    {
     "name": "stdout",
     "output_type": "stream",
     "text": [
      " replaced [1:3] ...  ['apple', 'blackberry', 'watermelon']\n"
     ]
    }
   ],
   "source": [
    "# replace a range of elements \n",
    "# from index #1 to index #3 (not including #3)\n",
    "fruitList = [\"apple\", \"grapefruit\", \"cherry\"]\n",
    "fruitList[1:3] = [\"blackberry\", \"watermelon\"]\n",
    "print(\" replaced [1:3] ... \", fruitList)"
   ]
  },
  {
   "cell_type": "code",
   "execution_count": null,
   "metadata": {},
   "outputs": [],
   "source": [
    "# 'APPEND' an element at the end of the list\n",
    "fruitList = [\"apple\", \"grapefruit\", \"cherry\"]\n",
    "fruitList.append(\"orange\")\n",
    "print(\"New list ... \", fruitList)"
   ]
  },
  {
   "cell_type": "code",
   "execution_count": 73,
   "metadata": {},
   "outputs": [
    {
     "name": "stdout",
     "output_type": "stream",
     "text": [
      "Extended firstList ...  ['apple', 'banana', 'cherry', 'mango', 'pineapple', 'papaya']\n"
     ]
    }
   ],
   "source": [
    "# 'EXTEND' one list with another\n",
    "firstList = [\"apple\", \"banana\", \"cherry\"]\n",
    "secondList = [\"mango\", \"pineapple\", \"papaya\"]\n",
    "\n",
    "firstList.extend(secondList)\n",
    "print(\"Extended firstList ... \", firstList)"
   ]
  },
  {
   "cell_type": "code",
   "execution_count": 76,
   "metadata": {},
   "outputs": [
    {
     "name": "stdout",
     "output_type": "stream",
     "text": [
      " replaced [1:4] ...  ['apple', 'blackberry', 'watermelon']\n"
     ]
    }
   ],
   "source": [
    "# Try it out!\n",
    "# Modify the list your created previously by doing the following:\n",
    "# 1. Replace an element in the list. Print.\n",
    "# 2. Replace consecutive elements in the list. Print.\n",
    "# 3. Append new items to the list. Print.\n",
    "# 4. Extend the list with another list. Print.\n",
    "favorite_fruit = [\"jackfruit\", \"nesberry\", \"tamarind\" , \"juneplum\" , \"stinking toe\", \"mango\"]\n",
    "print(\" replaced [1:4] ... \", fruitList)\n"
   ]
  },
  {
   "cell_type": "code",
   "execution_count": null,
   "metadata": {},
   "outputs": [
    {
     "ename": "NameError",
     "evalue": "name 'pd' is not defined",
     "output_type": "error",
     "traceback": [
      "\u001b[31m---------------------------------------------------------------------------\u001b[39m",
      "\u001b[31mNameError\u001b[39m                                 Traceback (most recent call last)",
      "\u001b[36mCell\u001b[39m\u001b[36m \u001b[39m\u001b[32mIn[8]\u001b[39m\u001b[32m, line 1\u001b[39m\n\u001b[32m----> \u001b[39m\u001b[32m1\u001b[39m df = \u001b[43mpd\u001b[49m.read_csv(\u001b[33mr\u001b[39m\u001b[33m\"\u001b[39m\u001b[33mC:\u001b[39m\u001b[33m\\\u001b[39m\u001b[33mUsers\u001b[39m\u001b[33m\\\u001b[39m\u001b[33mBlonnie\u001b[39m\u001b[33m\\\u001b[39m\u001b[33mSavvyCoders\u001b[39m\u001b[33m\\\u001b[39m\u001b[33mdap-curriculum\u001b[39m\u001b[33m\\\u001b[39m\u001b[33mSection05\u001b[39m\u001b[33m\\\u001b[39m\u001b[33muse_titanic.csv\u001b[39m\u001b[33m\"\u001b[39m)\n\u001b[32m      2\u001b[39m df\n",
      "\u001b[31mNameError\u001b[39m: name 'pd' is not defined"
     ]
    }
   ],
   "source": [
    "# Using sort_values instead of value_counts\n",
    "price_counts = df['Price'].value_counts().reset_index(name='Counts')\n",
    "sorted_price_counts = price_counts.sort_values(by='Counts', ascending=True).head(10)\n",
    "print(\"\\nTop 10 sorted Price counts (ascending):\\n\", sorted_price_counts)# Using sort_values instead of value_counts\n",
    "price_counts = df['Price'].value_counts().reset_index(name='Counts')\n",
    "sorted_price_counts = price_counts.sort_values(by='Counts', ascending=True).head(10)\n",
    "print(\"\\nTop 10 sorted Price counts (ascending):\\n\", sorted_price_counts)"
   ]
  },
  {
   "cell_type": "code",
   "execution_count": null,
   "metadata": {},
   "outputs": [],
   "source": []
  },
  {
   "cell_type": "code",
   "execution_count": null,
   "metadata": {},
   "outputs": [],
   "source": []
  }
 ],
 "metadata": {
  "kernelspec": {
   "display_name": "Python 3",
   "language": "python",
   "name": "python3"
  },
  "language_info": {
   "codemirror_mode": {
    "name": "ipython",
    "version": 3
   },
   "file_extension": ".py",
   "mimetype": "text/x-python",
   "name": "python",
   "nbconvert_exporter": "python",
   "pygments_lexer": "ipython3",
   "version": "3.13.2"
  }
 },
 "nbformat": 4,
 "nbformat_minor": 2
}
