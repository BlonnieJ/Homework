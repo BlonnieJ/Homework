{
 "cells": [
  {
   "cell_type": "code",
   "execution_count": null,
   "metadata": {},
   "outputs": [
    {
     "name": "stdout",
     "output_type": "stream",
     "text": [
      "Reshaped Array:\n",
      "[[[ 0  1]\n",
      "  [ 2  3]\n",
      "  [ 4  5]]\n",
      "\n",
      " [[ 6  7]\n",
      "  [ 8  9]\n",
      "  [10 11]]]\n"
     ]
    }
   ],
   "source": [
    "#7\n",
    "import numpy as np\n",
    "array = np.arange(12)\n",
    "reshaped_array = array.reshape(2, 3, 2)\n",
    "print(\"Reshaped Array:\")\n",
    "print(reshaped_array)"
   ]
  },
  {
   "cell_type": "code",
   "execution_count": null,
   "metadata": {},
   "outputs": [
    {
     "name": "stdout",
     "output_type": "stream",
     "text": [
      "Array: [ 0.  4.  8. 12. 16. 20.]\n"
     ]
    }
   ],
   "source": [
    "#8\n",
    "import numpy as np\n",
    "array = np.linspace(0, 20, 6)  \n",
    "print(\"Array:\", array)\n"
   ]
  },
  {
   "cell_type": "code",
   "execution_count": null,
   "metadata": {},
   "outputs": [
    {
     "name": "stdout",
     "output_type": "stream",
     "text": [
      "Deep Copy: [ 0.  4.  8. 12. 16. 20.]\n"
     ]
    }
   ],
   "source": [
    "#9\n",
    "deep_copy_array = array.copy()\n",
    "print(\"Deep Copy:\", deep_copy_array)"
   ]
  },
  {
   "cell_type": "code",
   "execution_count": null,
   "metadata": {},
   "outputs": [
    {
     "name": "stdout",
     "output_type": "stream",
     "text": [
      "newArray:\n",
      "[[25 16]\n",
      " [11  2]\n",
      " [13  4]\n",
      " [ 7 81]\n",
      " [ 5  6]\n",
      " [11 12]]\n"
     ]
    }
   ],
   "source": [
    "#10\n",
    "array1 = np.array([[25, 16]])\n",
    "array2 = np.array([[11, 2], [13, 4]])\n",
    "array3 = np.array([[7, 81], [5, 6], [11, 12]])\n",
    "newArray = np.concatenate((array1, array2, array3), axis=0)\n",
    "print(\"newArray:\")\n",
    "print(newArray)\n"
   ]
  },
  {
   "cell_type": "code",
   "execution_count": null,
   "metadata": {},
   "outputs": [
    {
     "name": "stdout",
     "output_type": "stream",
     "text": [
      "sortedArray: [ 2  4  5  6  7 11 11 12 13 16 25 81]\n"
     ]
    }
   ],
   "source": [
    "#11\n",
    "sortedArray = np.sort(newArray, axis=None)  # Sorting in a flat manner\n",
    "print(\"sortedArray:\", sortedArray)"
   ]
  },
  {
   "cell_type": "code",
   "execution_count": 2,
   "metadata": {},
   "outputs": [
    {
     "name": "stdout",
     "output_type": "stream",
     "text": [
      "Variable 1: [25 16]\n"
     ]
    }
   ],
   "source": [
    "#12\n",
    "import numpy as np\n",
    "newArray = np.array([\n",
    "    [25, 16],\n",
    "    [11, 2],\n",
    "    [13, 4],\n",
    "    [7, 81],\n",
    "    [5, 6],\n",
    "    [11, 12]\n",
    "])\n",
    "\n",
    "reshapedArray = newArray[:8].reshape(6, 2)\n",
    "var1, var2, var3, var4, var5, var6 = reshapedArray\n",
    "print(\"Variable 1:\", var1)\n"
   ]
  },
  {
   "cell_type": "code",
   "execution_count": 7,
   "metadata": {},
   "outputs": [],
   "source": [
    "# 12 \n",
    "import numpy as np\n",
    "\n",
    "newArray = np.arange(8)  # Creates an array [0, 1, 2, ..., 7]\n",
    "\n",
    "reshapedArray = newArray.reshape(4, 2)\n",
    "\n",
    "var1, var2, var3, var4 = reshapedArray\n"
   ]
  },
  {
   "cell_type": "code",
   "execution_count": null,
   "metadata": {},
   "outputs": [
    {
     "name": "stdout",
     "output_type": "stream",
     "text": [
      "comboArray: [0, 1, 2, 3, 4, 5, 6, 7, 10, 11, 12, 13, 14, 15, 16, 17, 20, 21, 22, 23, 24, 25, 26, 27]\n"
     ]
    }
   ],
   "source": [
    "#13\n",
    "one = [10, 11, 12, 13, 14, 15, 16, 17]\n",
    "two = [20, 21, 22, 23, 24, 25, 26, 27]\n",
    "three = [0, 1, 2, 3, 4, 5, 6, 7]\n",
    "comboArray = sorted(one + two + three)\n",
    "print(\"comboArray:\", comboArray)\n"
   ]
  },
  {
   "cell_type": "code",
   "execution_count": null,
   "metadata": {},
   "outputs": [
    {
     "name": "stdout",
     "output_type": "stream",
     "text": [
      "sec1 - 2nd element: 1\n",
      "sec2 - 3rd element to last: [2, 3, 4, 5, 6, 7, 10, 11, 12, 13, 14, 15, 16, 17, 20, 21, 22, 23, 24, 25, 26, 27]\n",
      "sec3 - 4th to 14th elements: [3, 4, 5, 6, 7, 10, 11, 12, 13, 14, 15]\n",
      "sec4 - Last 6 elements: [22, 23, 24, 25, 26, 27]\n",
      "sec5 - #0 up to and including #15 (negative index): [0, 1, 2, 3, 4, 5, 6, 7, 10, 11, 12, 13, 14, 15, 16, 17]\n",
      "sec6 - From #20 every even element to the end: [24, 26]\n",
      "sec7 - From last element moving forward, every 5th element: [27, 22, 15, 10, 3]\n"
     ]
    }
   ],
   "source": [
    "#14\n",
    "comboArray = [0, 1, 2, 3, 4, 5, 6, 7, 10, 11, 12, 13, 14, 15, 16, 17, 20, 21, 22, 23, 24, 25, 26, 27]\n",
    "\n",
    "sec1 = comboArray[1]\n",
    "sec2 = comboArray[2:] \n",
    "sec3 = comboArray[3:14]  \n",
    "sec4 = comboArray[-6:]  \n",
    "sec5 = comboArray[-len(comboArray):-len(comboArray)+16]  \n",
    "sec6 = comboArray[20::2]  \n",
    "sec7 = comboArray[::-5]  \n",
    "\n",
    "print(\"sec1 - 2nd element:\", sec1)\n",
    "print(\"sec2 - 3rd element to last:\", sec2)\n",
    "print(\"sec3 - 4th to 14th elements:\", sec3)\n",
    "print(\"sec4 - Last 6 elements:\", sec4)\n",
    "print(\"sec5 - #0 up to and including #15 (negative index):\", sec5)\n",
    "print(\"sec6 - From #20 every even element to the end:\", sec6)\n",
    "print(\"sec7 - From last element moving forward, every 5th element:\", sec7)\n"
   ]
  },
  {
   "cell_type": "code",
   "execution_count": null,
   "metadata": {},
   "outputs": [
    {
     "name": "stdout",
     "output_type": "stream",
     "text": [
      "  Ingredients  Quantity   Unit\n",
      "0       Flour         4   cups\n",
      "1        Milk         1    cup\n",
      "2        Eggs         2  large\n",
      "3        Spam         1    can\n"
     ]
    }
   ],
   "source": [
    "#15\n",
    "import pandas as pd\n",
    "ingredients = pd.Series([\"Flour\", \"Milk\", \"Eggs\", \"Spam\"])\n",
    "quantity = pd.Series([4, 1, 2, 1])\n",
    "unit = pd.Series([\"cups\", \"cup\", \"large\", \"can\"])\n",
    "\n",
    "dinner_df = pd.DataFrame({\"Ingredients\": ingredients, \"Quantity\": quantity, \"Unit\": unit })\n",
    "print(dinner_df)"
   ]
  },
  {
   "cell_type": "code",
   "execution_count": null,
   "metadata": {},
   "outputs": [
    {
     "name": "stdout",
     "output_type": "stream",
     "text": [
      "      Name  Height Qualification  address  Age        Pets           sport\n",
      "0      Jai     5.1           Msc    Delhi   21         Dog           Darts\n",
      "1  janusha     6.2            MA     Doha   23       Bunny      Basketball\n",
      "2   Gaurav     5.1           Msc  Chennai   24  Chinchilla  PaddleBoarding\n",
      "3     Anuj     5.2           Msc   Dakhar   21      Parrot         Cricket\n"
     ]
    }
   ],
   "source": [
    "#16\n",
    "import pandas as pd\n",
    "data = {\n",
    "    'Name': ['Jai', 'janusha', 'Gaurav', 'Anuj'],\n",
    "    'Height': [5.1, 6.2, 5.1, 5.2],\n",
    "    'Qualification': ['Msc', 'MA', 'Msc', 'Msc'],\n",
    "    'address': ['Delhi', 'Doha', 'Chennai', 'Dakhar'],\n",
    "    'Age': [21, 23, 24, 21],\n",
    "    'Pets': ['Dog', 'Bunny', 'Chinchilla', 'Parrot'],\n",
    "    'sport': ['Darts', 'Basketball', 'PaddleBoarding', 'Cricket']\n",
    "}\n",
    "studentData = pd.DataFrame(data)\n",
    "print(studentData)\n"
   ]
  },
  {
   "cell_type": "code",
   "execution_count": null,
   "metadata": {},
   "outputs": [
    {
     "name": "stdout",
     "output_type": "stream",
     "text": [
      "      Name  Height Qualification  address  Age        Pets           sport  \\\n",
      "0      Jai     5.1           Msc    Delhi   21         Dog           Darts   \n",
      "1  janusha     6.2            MA     Doha   23       Bunny      Basketball   \n",
      "2   Gaurav     5.1           Msc  Chennai   24  Chinchilla  PaddleBoarding   \n",
      "3     Anuj     5.2           Msc   Dakhar   21      Parrot         Cricket   \n",
      "\n",
      "        Deserts  \n",
      "0     ice cream  \n",
      "1  Cashew Fudge  \n",
      "2       waffels  \n",
      "3  Carrot Halwa  \n"
     ]
    }
   ],
   "source": [
    "#17\n",
    "deserts = [\"ice cream\", \"Cashew Fudge\", \"waffels\", \"Carrot Halwa\"]\n",
    "studentData[\"Deserts\"] = deserts\n",
    "print(studentData)"
   ]
  },
  {
   "cell_type": "code",
   "execution_count": null,
   "metadata": {},
   "outputs": [
    {
     "name": "stdout",
     "output_type": "stream",
     "text": [
      "      Name  Height Qualification  address  Age        Pets           sport  \\\n",
      "3     Anuj     5.2           Msc   Dakhar   21      Parrot         Cricket   \n",
      "2   Gaurav     5.1           Msc  Chennai   24  Chinchilla  PaddleBoarding   \n",
      "0      Jai     5.1           Msc    Delhi   21         Dog           Darts   \n",
      "1  janusha     6.2            MA     Doha   23       Bunny      Basketball   \n",
      "\n",
      "        Deserts  \n",
      "3  Carrot Halwa  \n",
      "2       waffels  \n",
      "0     ice cream  \n",
      "1  Cashew Fudge  \n"
     ]
    }
   ],
   "source": [
    "#18\n",
    "sorted_studentData = studentData.sort_values(by=[\"Name\", \"address\"])\n",
    "print(sorted_studentData)"
   ]
  },
  {
   "cell_type": "code",
   "execution_count": null,
   "metadata": {},
   "outputs": [
    {
     "name": "stdout",
     "output_type": "stream",
     "text": [
      "The DataFrame has been saved as 'cows_and_goats.csv'.\n"
     ]
    }
   ],
   "source": [
    "#19\n",
    "df = pd.DataFrame({'Cows': [12, 20], 'Goats': [22, 19]}, index=['Year 1', 'Year 2'])\n",
    "df.to_csv(\"cows_and_goats.csv\", index=True)\n",
    "print(\"The DataFrame has been saved as 'cows_and_goats.csv'.\")\n"
   ]
  },
  {
   "cell_type": "code",
   "execution_count": null,
   "metadata": {},
   "outputs": [
    {
     "name": "stdout",
     "output_type": "stream",
     "text": [
      "The DataFrame has been saved as 'vegetable_data.csv'.\n"
     ]
    }
   ],
   "source": [
    "#20\n",
    "veggie_data = pd.DataFrame({\n",
    "    \"Vegetables\": [\"Carrot\", \"Broccoli\", \"Spinach\"],\n",
    "    \"Quantity\": [10, 5, 12],\n",
    "    \"Unit\": [\"lbs\", \"lbs\", \"lbs\"]\n",
    "})\n",
    "veggie_data.to_csv(\"vegetable_data.csv\", index=False)\n",
    "\n",
    "print(\"The DataFrame has been saved as 'vegetable_data.csv'.\")"
   ]
  },
  {
   "cell_type": "code",
   "execution_count": 27,
   "metadata": {},
   "outputs": [
    {
     "name": "stdout",
     "output_type": "stream",
     "text": [
      "  Vegetables  Quantity Unit  Price\n",
      "0     Carrot        10  lbs    2.5\n",
      "1   Broccoli         5  lbs    3.0\n",
      "2    Spinach        12  lbs    1.5\n"
     ]
    }
   ],
   "source": [
    "#20 \n",
    "veggie_data[\"Price\"] = [2.5, 3.0, 1.5]  # Add a new column 'Price'\n",
    "\n",
    "veggie_data.to_csv(\"vegetables_with_price.csv\", index=False)\n",
    "print(veggie_data)\n"
   ]
  }
 ],
 "metadata": {
  "kernelspec": {
   "display_name": "Python 3",
   "language": "python",
   "name": "python3"
  },
  "language_info": {
   "codemirror_mode": {
    "name": "ipython",
    "version": 3
   },
   "file_extension": ".py",
   "mimetype": "text/x-python",
   "name": "python",
   "nbconvert_exporter": "python",
   "pygments_lexer": "ipython3",
   "version": "3.13.2"
  }
 },
 "nbformat": 4,
 "nbformat_minor": 2
}
